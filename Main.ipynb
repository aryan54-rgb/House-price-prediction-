{
 "cells": [
  {
   "cell_type": "code",
   "execution_count": 1,
   "id": "4a381976-fb89-4bd4-8740-47e444b321f8",
   "metadata": {},
   "outputs": [],
   "source": [
    "import numpy as np\n",
    "import pandas as pd\n",
    "import matplotlib.pyplot as plt"
   ]
  },
  {
   "cell_type": "code",
   "execution_count": 2,
   "id": "d411219f-335e-4ff6-9e11-c0d10f576a03",
   "metadata": {},
   "outputs": [
    {
     "name": "stderr",
     "output_type": "stream",
     "text": [
      "C:\\Users\\Personal\\AppData\\Local\\Temp\\ipykernel_9976\\1520302224.py:3: FutureWarning: Series.__getitem__ treating keys as positions is deprecated. In a future version, integer keys will always be treated as labels (consistent with DataFrame behavior). To access a value by position, use `ser.iloc[pos]`\n",
      "  mean = data.mean()[0]\n",
      "C:\\Users\\Personal\\AppData\\Local\\Temp\\ipykernel_9976\\1520302224.py:4: FutureWarning: Series.__getitem__ treating keys as positions is deprecated. In a future version, integer keys will always be treated as labels (consistent with DataFrame behavior). To access a value by position, use `ser.iloc[pos]`\n",
      "  stddev = data.std()[0]\n"
     ]
    },
    {
     "data": {
      "text/html": [
       "<div>\n",
       "<style scoped>\n",
       "    .dataframe tbody tr th:only-of-type {\n",
       "        vertical-align: middle;\n",
       "    }\n",
       "\n",
       "    .dataframe tbody tr th {\n",
       "        vertical-align: top;\n",
       "    }\n",
       "\n",
       "    .dataframe thead th {\n",
       "        text-align: right;\n",
       "    }\n",
       "</style>\n",
       "<table border=\"1\" class=\"dataframe\">\n",
       "  <thead>\n",
       "    <tr style=\"text-align: right;\">\n",
       "      <th></th>\n",
       "      <th>price</th>\n",
       "      <th>lotsize</th>\n",
       "      <th>bedrooms</th>\n",
       "      <th>bathrms</th>\n",
       "      <th>stories</th>\n",
       "      <th>garagepl</th>\n",
       "    </tr>\n",
       "  </thead>\n",
       "  <tbody>\n",
       "    <tr>\n",
       "      <th>0</th>\n",
       "      <td>-0.978239</td>\n",
       "      <td>0.322732</td>\n",
       "      <td>0.047192</td>\n",
       "      <td>-0.568973</td>\n",
       "      <td>0.221501</td>\n",
       "      <td>0.357239</td>\n",
       "    </tr>\n",
       "    <tr>\n",
       "      <th>1</th>\n",
       "      <td>-1.109312</td>\n",
       "      <td>-0.530526</td>\n",
       "      <td>-1.308947</td>\n",
       "      <td>-0.568973</td>\n",
       "      <td>-0.930304</td>\n",
       "      <td>-0.803788</td>\n",
       "    </tr>\n",
       "    <tr>\n",
       "      <th>2</th>\n",
       "      <td>-0.697368</td>\n",
       "      <td>-0.964074</td>\n",
       "      <td>0.047192</td>\n",
       "      <td>-0.568973</td>\n",
       "      <td>-0.930304</td>\n",
       "      <td>-0.803788</td>\n",
       "    </tr>\n",
       "    <tr>\n",
       "      <th>3</th>\n",
       "      <td>-0.285425</td>\n",
       "      <td>0.691709</td>\n",
       "      <td>0.047192</td>\n",
       "      <td>-0.568973</td>\n",
       "      <td>0.221501</td>\n",
       "      <td>-0.803788</td>\n",
       "    </tr>\n",
       "    <tr>\n",
       "      <th>4</th>\n",
       "      <td>-0.266700</td>\n",
       "      <td>0.557955</td>\n",
       "      <td>-1.308947</td>\n",
       "      <td>-0.568973</td>\n",
       "      <td>-0.930304</td>\n",
       "      <td>-0.803788</td>\n",
       "    </tr>\n",
       "  </tbody>\n",
       "</table>\n",
       "</div>"
      ],
      "text/plain": [
       "      price   lotsize  bedrooms   bathrms   stories  garagepl\n",
       "0 -0.978239  0.322732  0.047192 -0.568973  0.221501  0.357239\n",
       "1 -1.109312 -0.530526 -1.308947 -0.568973 -0.930304 -0.803788\n",
       "2 -0.697368 -0.964074  0.047192 -0.568973 -0.930304 -0.803788\n",
       "3 -0.285425  0.691709  0.047192 -0.568973  0.221501 -0.803788\n",
       "4 -0.266700  0.557955 -1.308947 -0.568973 -0.930304 -0.803788"
      ]
     },
     "execution_count": 2,
     "metadata": {},
     "output_type": "execute_result"
    }
   ],
   "source": [
    "data = pd.read_csv('D:\\\\ARYAN\\\\PROJECTS\\\\price prediction\\\\Housing Price data set.csv')\n",
    "data=data.drop(['Unnamed: 0','driveway','recroom','fullbase','airco','prefarea', 'gashw'],axis=1)\n",
    "mean = data.mean()[0]\n",
    "stddev = data.std()[0]\n",
    "data = (data - data.mean())/data.std()\n",
    "\n",
    "data.head()"
   ]
  },
  {
   "cell_type": "code",
   "execution_count": 3,
   "id": "498cdcb5-7cba-4ab4-b100-f62494edf515",
   "metadata": {},
   "outputs": [],
   "source": [
    " data=np.asarray(data)\n",
    "Y=data[:,0:1]\n",
    "X=data[:,1:]\n",
    "one = np.ones((len(X),1))\n",
    "X = np.concatenate((one,X),axis=1)\n",
    "split_ratio = 0.9\n",
    "split = int(split_ratio * X.shape[0])\n",
    "X_test = X[split+1:,:]\n",
    "X_train = X[:split+1, :]\n",
    "Y_test = Y[split+1:,:]\n",
    "Y_train = Y[:split+1, :]"
   ]
  },
  {
   "cell_type": "code",
   "execution_count": 4,
   "id": "8d5e0c07-867c-4dc5-9ff6-7b45e1ef9026",
   "metadata": {},
   "outputs": [],
   "source": [
    "# helper Functions\n",
    "def computeCost(X,y,theta,lam):\n",
    "    tobesummed = np.power(((X.dot(theta.T))-y),2)+lam*np.sum(np.power(theta,2))\n",
    "    return np.sum(tobesummed)/(2 * len(X))\n",
    "\n",
    "def denormalise_price(price):\n",
    "    global mean\n",
    "    global stddev\n",
    "    ret = price * stddev + mean\n",
    "    return ret\n",
    "\n",
    "def computeError(predicted, actual):\n",
    "    error = 0\n",
    "    for i in range(len(predicted)):\n",
    "        error += abs(actual[i] - predicted[i]) / actual[i]\n",
    "    error /= len(actual)\n",
    "    return error[0]\n",
    "\n",
    "def plotGraph(x,y,labelX='X',labelY='Y',title='X vs Y'):\n",
    "  fig, ax = plt.subplots()  \n",
    "  ax.plot(x, y, 'r')\n",
    "  ax.set_xlabel(labelX) \n",
    "  ax.set_ylabel(labelY)  \n",
    "  ax.set_title(title)"
   ]
  },
  {
   "cell_type": "code",
   "execution_count": 5,
   "id": "42a24597-5fc2-4b3c-ad24-5c2c32a609d0",
   "metadata": {},
   "outputs": [],
   "source": [
    "# Gradient Descent\n",
    "def gradientDescent(X,y,theta,iters,alpha, lam):\n",
    "    lam_matrix = lam * np.ones(theta.shape)\n",
    "    lam_matrix[0][0] = 0\n",
    "    for i in range(iters):\n",
    "        theta = theta*(1- lam_matrix / len(X)) - (alpha/len(X)) * np.sum(X * (X @ theta.T - y), axis=0)\n",
    "\n",
    "    return theta"
   ]
  },
  {
   "cell_type": "code",
   "execution_count": 6,
   "id": "17f7be75-818c-476e-b9b6-f16c232a73f2",
   "metadata": {},
   "outputs": [],
   "source": [
    "#Normal equation\n",
    "def normalEquation(X,Y,lam):\n",
    "    lam_matrix = lam * np.identity(X.shape[1])\n",
    "    lam_matrix[0][0] = 0\n",
    "    theta = np.linalg.inv(X.T.dot(X) + lam_matrix).dot(X.T).dot(Y)\n",
    "    return theta\n",
    "    "
   ]
  },
  {
   "cell_type": "code",
   "execution_count": 7,
   "id": "72803579-c6af-4ed8-a38b-616ca4a86cbf",
   "metadata": {},
   "outputs": [
    {
     "name": "stdout",
     "output_type": "stream",
     "text": [
      "min Error  :  13.960611355440056 %\n",
      "Optimal Lambda :  24\n"
     ]
    },
    {
     "data": {
      "image/png": "[encoded data removed]",
      "text/plain": [
       "<Figure size 640x480 with 1 Axes>"
      ]
     },
     "metadata": {},
     "output_type": "display_data"
    }
   ],
   "source": [
    "theta = np.zeros([1,X.shape[1]])\n",
    "alpha = .1 #learning rate\n",
    "iters = 500 #epoch\n",
    "error_matrix = []\n",
    "lam_range = 600 #maximam lamda\n",
    "for lam in range(lam_range):\n",
    "    g = gradientDescent(X_train,Y_train,theta,iters,alpha, lam)\n",
    "    Cost = computeCost(X_train,Y_train,g,lam)\n",
    "\n",
    "    Y_pred = X_test.dot(g.T)\n",
    "    error = computeError(denormalise_price(Y_pred),denormalise_price(Y_test))\n",
    "    error_matrix.append(error*100)\n",
    "optimal_lambda = 0\n",
    "min_error = 9999\n",
    "for i in range(len(error_matrix)):\n",
    "    if error_matrix[i] < min_error:\n",
    "        optimal_lambda = i\n",
    "        min_error = error_matrix[i]\n",
    "\n",
    "print(\"min Error  : \", (min_error),'%')\n",
    "print(\"Optimal Lambda : \", optimal_lambda)\n",
    "plotGraph(np.arange(lam_range),error_matrix,'lambda','error','lambda vs error')"
   ]
  },
  {
   "cell_type": "code",
   "execution_count": 8,
   "id": "2348dd3c-acd5-450b-bf42-772a9c233a36",
   "metadata": {},
   "outputs": [
    {
     "name": "stdout",
     "output_type": "stream",
     "text": [
      "pred price = 64257.57664950318 actual price = 58500.0\n"
     ]
    }
   ],
   "source": [
    "print('pred price =',denormalise_price(Y_pred[2][0]),'actual price =',denormalise_price(Y_test[2][0]))"
   ]
  },
  {
   "cell_type": "code",
   "execution_count": 9,
   "id": "2068a990-4bef-4733-a6a1-c9cae631a183",
   "metadata": {},
   "outputs": [
    {
     "name": "stdout",
     "output_type": "stream",
     "text": [
      "min Error :  13.432288061521586\n",
      "Optimal Lambda :  311\n"
     ]
    },
    {
     "data": {
      "image/png": "[encoded data removed]",
      "text/plain": [
       "<Figure size 640x480 with 1 Axes>"
      ]
     },
     "metadata": {},
     "output_type": "display_data"
    }
   ],
   "source": [
    "error_mat = []\n",
    "lam_range = 600\n",
    "\n",
    "for lam in range(lam_range):\n",
    "    theta = normalEquation(X,Y,lam)\n",
    "    Cost = computeCost(X_train,Y_train,theta.T,lam)\n",
    "    Y_pred = X_test.dot(theta)\n",
    "    error = computeError(denormalise_price(Y_pred),denormalise_price(Y_test))\n",
    "    error_mat.append(error*100)\n",
    "\n",
    "optimal_lambda = 0\n",
    "min_error = 9999\n",
    "for i in range(len(error_mat)):\n",
    "    if error_mat[i] < min_error:\n",
    "        optimal_lambda = i\n",
    "        min_error = error_mat[i]\n",
    "print(\"min Error : \", min_error)\n",
    "print(\"Optimal Lambda : \", optimal_lambda)\n",
    "plotGraph(np.arange(lam_range),error_mat,'lambda','error','lambda vs error')"
   ]
  },
  {
   "cell_type": "code",
   "execution_count": 10,
   "id": "e972ab41-0b37-4d2f-b085-3ba384393a0e",
   "metadata": {},
   "outputs": [
    {
     "name": "stdout",
     "output_type": "stream",
     "text": [
      "pred price = 57100.42631724469 actual price = 58500.0\n"
     ]
    }
   ],
   "source": [
    "print('pred price =',denormalise_price(Y_pred[2][0]),'actual price =',denormalise_price(Y_test[2])[0])"
   ]
  },
  {
   "cell_type": "code",
   "execution_count": null,
   "id": "b802fa85-cb32-4ef3-9b0d-3394c479baf0",
   "metadata": {},
   "outputs": [],
   "source": []
  }
 ],
 "metadata": {
  "kernelspec": {
   "display_name": "Python [conda env:base] *",
   "language": "python",
   "name": "conda-base-py"
  },
  "language_info": {
   "codemirror_mode": {
    "name": "ipython",
    "version": 3
   },
   "file_extension": ".py",
   "mimetype": "text/x-python",
   "name": "python",
   "nbconvert_exporter": "python",
   "pygments_lexer": "ipython3",
   "version": "3.13.5"
  }
 },
 "nbformat": 4,
 "nbformat_minor": 5
}
